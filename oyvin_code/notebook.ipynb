{
 "cells": [
  {
   "cell_type": "code",
   "execution_count": 1,
   "metadata": {},
   "outputs": [],
   "source": [
    "from torch.utils.data import DataLoader, Dataset\n",
    "from sklearn.model_selection import train_test_split\n",
    "from Image_Functions import slicing, crop_images_to_brain, crop_to_size\n",
    "from datasetModule import Set"
   ]
  },
  {
   "cell_type": "markdown",
   "metadata": {},
   "source": [
    "Most of the functionallity is stored in module files. \n",
    "The data consist of Images with 3 channels and segmentation images with 2 channels.\n"
   ]
  },
  {
   "cell_type": "code",
   "execution_count": 2,
   "metadata": {},
   "outputs": [],
   "source": [
    "\"Need to specify the local path on computer\"\n",
    "dir_path = \"../Cropped_Task3/\""
   ]
  },
  {
   "cell_type": "code",
   "execution_count": 3,
   "metadata": {},
   "outputs": [
    {
     "name": "stdout",
     "output_type": "stream",
     "text": [
      "../Cropped_Task3/crop_sub-233\n",
      "(275, 350, 168)\n",
      "segmentation shape:  torch.Size([1, 275, 350, 168])\n",
      "../Cropped_Task3/crop_sub-232\n",
      "(281, 330, 172)\n",
      "segmentation shape:  torch.Size([1, 281, 330, 172])\n",
      "../Cropped_Task3/crop_sub-234\n",
      "(281, 349, 172)\n",
      "segmentation shape:  torch.Size([1, 281, 349, 172])\n",
      "../Cropped_Task3/crop_sub-230\n",
      "(281, 358, 182)\n",
      "segmentation shape:  torch.Size([1, 281, 358, 182])\n",
      "../Cropped_Task3/crop_sub-231\n",
      "(322, 340, 185)\n",
      "segmentation shape:  torch.Size([1, 322, 340, 185])\n"
     ]
    }
   ],
   "source": [
    "'Splitting the data into 30% test and 70% training.'\n",
    "X_train, X_test = train_test_split(Set(dir_path, sub_dir = 'crop_sub-23'), test_size=0.3, random_state=25)"
   ]
  },
  {
   "cell_type": "code",
   "execution_count": 4,
   "metadata": {},
   "outputs": [],
   "source": [
    "#X_train, X_test = crop_images_to_brain(X_train), crop_images_to_brain(X_test)\n",
    "size = (256,288,176)\n",
    "#size = (128,128,128)\n",
    "X_train, X_test = crop_to_size(X_train, size), crop_to_size(X_test,size)"
   ]
  },
  {
   "cell_type": "markdown",
   "metadata": {},
   "source": [
    "In order to access the set after they have been parsed through the dataloader:\n"
   ]
  },
  {
   "cell_type": "markdown",
   "metadata": {},
   "source": [
    "To access a batch: batch = next(iter(<<Insert name here>>))\n"
   ]
  },
  {
   "cell_type": "markdown",
   "metadata": {},
   "source": [
    "To access the data: batch['batchnumber']['data']\n"
   ]
  },
  {
   "cell_type": "markdown",
   "metadata": {},
   "source": [
    "To access the segmentation: batch['batchnumber']['seg]"
   ]
  },
  {
   "cell_type": "code",
   "execution_count": null,
   "metadata": {},
   "outputs": [],
   "source": [
    "'Load training and test set, batch size may vary'\n",
    "train_set, test_set = DataLoader(X_train, batch_size=1), DataLoader(X_test, batch_size=1)"
   ]
  },
  {
   "cell_type": "code",
   "execution_count": null,
   "metadata": {},
   "outputs": [],
   "source": [
    "tmp = next(iter(train_set))\n",
    "image = tmp['data']\n",
    "print(image.shape)\n",
    "\n"
   ]
  },
  {
   "cell_type": "code",
   "execution_count": null,
   "metadata": {},
   "outputs": [],
   "source": [
    "import torch\n",
    "from torch import nn\n",
    "from torch.nn import parameter\n",
    "import Model"
   ]
  },
  {
   "cell_type": "code",
   "execution_count": null,
   "metadata": {},
   "outputs": [],
   "source": [
    "'Run the CNN'\n",
    "model = Model.CNN(3, None)\n",
    "print(model)\n"
   ]
  },
  {
   "cell_type": "code",
   "execution_count": null,
   "metadata": {},
   "outputs": [],
   "source": [
    "out_img = model(image)\n"
   ]
  },
  {
   "cell_type": "code",
   "execution_count": null,
   "metadata": {},
   "outputs": [],
   "source": [
    "\n",
    "print(out_img[0][0].shape)\n",
    "img = out_img[0][0]\n",
    "img = img.detach().numpy()\n",
    "slicing(img)"
   ]
  }
 ],
 "metadata": {
  "interpreter": {
   "hash": "09df6ad7c0cd894ef37e668561b864e929260a726a998a2694588e4bb4310250"
  },
  "kernelspec": {
   "display_name": "Python 3.9.5 64-bit ('base': conda)",
   "name": "python3"
  },
  "language_info": {
   "codemirror_mode": {
    "name": "ipython",
    "version": 3
   },
   "file_extension": ".py",
   "mimetype": "text/x-python",
   "name": "python",
   "nbconvert_exporter": "python",
   "pygments_lexer": "ipython3",
   "version": "3.9.5"
  },
  "orig_nbformat": 4
 },
 "nbformat": 4,
 "nbformat_minor": 2
}
