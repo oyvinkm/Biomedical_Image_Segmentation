{
 "cells": [
  {
   "cell_type": "code",
   "execution_count": null,
   "source": [
    "from torch.utils.data import DataLoader, Dataset\n",
    "from sklearn.model_selection import train_test_split\n",
    "from Image_Functions import slicing, crop_images_to_brain, crop_to_size\n",
    "from datasetModule import Set\n",
    "from Model import CNN"
   ],
   "outputs": [],
   "metadata": {}
  },
  {
   "cell_type": "markdown",
   "source": [
    "Most of the functionallity is stored in module files. \n",
    "The data consist of Images with 3 channels and segmentation images with 2 channels.\n"
   ],
   "metadata": {}
  },
  {
   "cell_type": "code",
   "execution_count": null,
   "source": [
    "\"Need to specify the local path on computer\"\n",
    "dir_path = \"../Task3/\""
   ],
   "outputs": [],
   "metadata": {}
  },
  {
   "cell_type": "code",
   "execution_count": null,
   "source": [
    "'Splitting the data into 30% test and 70% training.'\n",
    "X_train, X_test = train_test_split(Set(dir_path, sub_dir = 'sub-20'), test_size=0.3, random_state=25)\n",
    "X_train, X_val = train_test_split(X_train, test_size=0.2, random_state=25)"
   ],
   "outputs": [],
   "metadata": {}
  },
  {
   "cell_type": "code",
   "execution_count": null,
   "source": [
    "X_train_c, X_test_c = crop_images_to_brain(X_train), crop_images_to_brain(X_test)\n",
    "size = (256,288,176)\n",
    "X_train_c, X_test_c = crop_to_size(X_train_c, size), crop_to_size(X_test_c,size)"
   ],
   "outputs": [],
   "metadata": {}
  },
  {
   "cell_type": "code",
   "execution_count": null,
   "source": [
    "'Visualising slices of images along all three axis'\n",
    "for i in range(len(X_train_c)):\n",
    "    for j in range(3):\n",
    "        img = X_train_c[i]['data'][j]\n",
    "        img = img.float()\n",
    "        slicing(img)"
   ],
   "outputs": [],
   "metadata": {}
  },
  {
   "cell_type": "markdown",
   "source": [
    "In order to access the set after they have been parsed through the dataloader:\n"
   ],
   "metadata": {}
  },
  {
   "cell_type": "markdown",
   "source": [
    "To access a batch: batch = next(iter(<<Insert name here>>))\n"
   ],
   "metadata": {}
  },
  {
   "cell_type": "markdown",
   "source": [
    "To access the data: batch['batchnumber']['data']\n"
   ],
   "metadata": {}
  },
  {
   "cell_type": "markdown",
   "source": [
    "To access the segmentation: batch['batchnumber']['seg]"
   ],
   "metadata": {}
  },
  {
   "cell_type": "code",
   "execution_count": null,
   "source": [
    "'Load training and test set, batch size may vary'\n",
    "train_set, test_set = DataLoader(X_train_c, batch_size=2), DataLoader(X_test_c, batch_size=1)"
   ],
   "outputs": [],
   "metadata": {}
  },
  {
   "cell_type": "code",
   "execution_count": null,
   "source": [
    "tmp = next(iter(train_set))\n",
    "image = tmp['data']\n",
    "print(image.shape)\n",
    "print(type(image))"
   ],
   "outputs": [],
   "metadata": {}
  },
  {
   "cell_type": "code",
   "execution_count": null,
   "source": [
    "'Run the CNN'\n",
    "model_1 = CNN()\n",
    "out_img = model(image)\n",
    "print(out_img.shape)"
   ],
   "outputs": [],
   "metadata": {}
  },
  {
   "cell_type": "code",
   "execution_count": null,
   "source": [
    "'Visualise all channels of a convolution layer'\n",
    "img_arr = out_img.detach().numpy()\n",
    "for i in range(len(img_arr[0])):\n",
    "    slicing(img_arr[0][i])"
   ],
   "outputs": [],
   "metadata": {}
  },
  {
   "cell_type": "code",
   "execution_count": null,
   "source": [],
   "outputs": [],
   "metadata": {}
  }
 ],
 "metadata": {
  "orig_nbformat": 4,
  "language_info": {
   "name": "python",
   "version": "3.9.5",
   "mimetype": "text/x-python",
   "codemirror_mode": {
    "name": "ipython",
    "version": 3
   },
   "pygments_lexer": "ipython3",
   "nbconvert_exporter": "python",
   "file_extension": ".py"
  },
  "kernelspec": {
   "name": "python3",
   "display_name": "Python 3.9.5 64-bit ('base': conda)"
  },
  "interpreter": {
   "hash": "09df6ad7c0cd894ef37e668561b864e929260a726a998a2694588e4bb4310250"
  }
 },
 "nbformat": 4,
 "nbformat_minor": 2
}