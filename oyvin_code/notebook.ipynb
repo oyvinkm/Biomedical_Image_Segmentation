{
 "cells": [
  {
   "cell_type": "code",
   "execution_count": 133,
   "source": [
    "import os\n",
    "import numpy as np\n",
    "from nibabel.testing import data_path\n",
    "import nibabel as nib\n",
    "import torch\n",
    "from numpy import random as rand\n",
    "from torch import nn\n",
    "from torch.utils.data import DataLoader, Dataset\n",
    "import torch.nn.functional as F\n",
    "from torchvision import datasets, transforms\n",
    "from torchvision.transforms import ToTensor\n",
    "from typing import Union, Tuple, List\n",
    "import matplotlib.pyplot as plt\n",
    "from sklearn.model_selection import train_test_split\n",
    "from Image_Functions import slicing, crop_images_to_brain\n",
    "from datasetModule import Set\n",
    "from Model import CNN"
   ],
   "outputs": [],
   "metadata": {}
  },
  {
   "cell_type": "markdown",
   "source": [
    "Most of the functionallity is stored in module files. \n",
    "The data consist of Images with 3 channels and segmentation images with 2 channels.\n"
   ],
   "metadata": {}
  },
  {
   "cell_type": "code",
   "execution_count": 136,
   "source": [
    "\"Need to specify the local path on computer\"\n",
    "dir_path = \"../Task3/\""
   ]
  },
  {
   "cell_type": "code",
   "execution_count": null,
   "source": [
    "'Splitting the data into 30% test and 70% training.'\n",
    "X_train, X_test = train_test_split(Set(dir_path), test_size=0.3, random_state=25)"
   ],
   "outputs": [],
   "metadata": {}
  },
  {
   "cell_type": "code",
   "execution_count": null,
   "source": [
    "'Cropping images to only contain brain region'\n",
    "X_train_temp = crop_images_to_brain(X_train)\n",
    "X_test_temp = crop_images_to_brain(X_test)"
   ],
   "outputs": [],
   "metadata": {}
  },
  {
   "cell_type": "code",
   "execution_count": null,
   "source": [
    "'Visualising slices of images along all three axis'\n",
    "for i in range(len(X_train_temp)):\n",
    "    for i in range(3):\n",
    "        img = X_train_temp[i]['data'][0]\n",
    "        img = img.float()\n",
    "        slicing(img)"
   ],
   "outputs": [],
   "metadata": {}
  },
  {
   "cell_type": "markdown",
   "source": [
    "In order to access the set after they have been parsed through the dataloader:\n"
   ],
   "metadata": {}
  },
  {
   "cell_type": "markdown",
   "source": [
    "To access a batch: batch = next(iter(<<Insert name here>>))\n"
   ],
   "metadata": {}
  },
  {
   "cell_type": "markdown",
   "source": [
    "To access the data: batch['batchnumber']['data']\n"
   ],
   "metadata": {}
  },
  {
   "cell_type": "markdown",
   "source": [
    "To access the segmentation: batch['batchnumber']['seg]"
   ],
   "metadata": {}
  },
  {
   "cell_type": "code",
   "execution_count": 124,
   "source": [
    "'Load training and test set, batch size may vary'\n",
    "train_set, test_set = DataLoader(X_train_temp, batch_size=2), DataLoader(X_test_temp, batch_size=1)"
   ],
   "outputs": [],
   "metadata": {}
  },
  {
   "cell_type": "code",
   "execution_count": 125,
   "source": [
    "tmp = next(iter(train_set))\n",
    "image = tmp['data']\n",
    "print(image.shape)\n",
    "print(type(image))"
   ]
  },
  {
   "cell_type": "code",
   "execution_count": 16,
   "metadata": {},
   "outputs": [
    {
     "output_type": "stream",
     "name": "stdout",
     "text": [
      "torch.Size([2, 3, 269, 322, 173])\n",
      "<class 'torch.Tensor'>\n"
     ]
    }
   ],
   "metadata": {}
  },
  {
   "cell_type": "code",
   "execution_count": null,
   "source": [
    "'Run the CNN'\n",
    "model = CNN()\n",
    "out_img = model(image)\n",
    "print(out_img.shape)"
   ],
   "outputs": [],
   "metadata": {}
  },
  {
   "cell_type": "code",
   "execution_count": null,
   "source": [
    "'Visualise all channels of a convolution layer'\n",
    "img_arr = out_img.detach().numpy()\n",
    "for i in range(len(img_arr[0])):\n",
    "    slicing(img_arr[0][i])"
   ],
   "outputs": [],
   "source": []
  }
 ],
 "metadata": {
  "interpreter": {
   "hash": "09df6ad7c0cd894ef37e668561b864e929260a726a998a2694588e4bb4310250"
  },
  "kernelspec": {
   "display_name": "Python 3",
   "language": "python",
   "name": "python3"
  },
  "language_info": {
   "codemirror_mode": {
    "name": "ipython",
    "version": 3
   },
   "file_extension": ".py",
   "mimetype": "text/x-python",
   "name": "python",
   "nbconvert_exporter": "python",
   "pygments_lexer": "ipython3",
   "version": "3.8.8"
  }
 },
 "nbformat": 4,
 "nbformat_minor": 2
}
