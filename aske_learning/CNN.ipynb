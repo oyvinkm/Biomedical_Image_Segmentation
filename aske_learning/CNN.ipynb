{
 "cells": [
  {
   "cell_type": "code",
   "execution_count": 1,
   "source": [
    "import torch\r\n",
    "import torch.nn as nn\r\n",
    "import torchvision\r\n",
    "import torchvision.transforms as transforms\r\n",
    "import torch.nn.functional as F\r\n",
    "import matplotlib.pyplot as plt\r\n",
    "\r\n",
    "device = torch.device('cuda' if torch.cuda.is_available() else 'cpu')"
   ],
   "outputs": [],
   "metadata": {}
  },
  {
   "cell_type": "code",
   "execution_count": 2,
   "source": [
    "#hyper parameters\r\n",
    "num_epochs = 4\r\n",
    "batch_size = 4\r\n",
    "learning_rate = 0.01"
   ],
   "outputs": [],
   "metadata": {}
  },
  {
   "cell_type": "code",
   "execution_count": 3,
   "source": [
    "#Dataset, CIFAR10 (pictures of animals)\r\n",
    "transform = transforms.Compose([transforms.ToTensor(),\r\n",
    "                                transforms.Normalize((0.5,0.5,0.5), (0.5,0.5,0.5))])\r\n",
    "\r\n",
    "train_dataset = torchvision.datasets.CIFAR10(root='./data', train = True,\r\n",
    "                                          transform=transform, download=True)\r\n",
    "                                          \r\n",
    "test_dataset = torchvision.datasets.CIFAR10(root='./data', train = False,\r\n",
    "                                          transform=transform)\r\n",
    "\r\n",
    "train_loader = torch.utils.data.DataLoader(dataset=train_dataset, batch_size = batch_size,\r\n",
    "                                           shuffle=False)\r\n",
    "\r\n",
    "test_loader = torch.utils.data.DataLoader(dataset=test_dataset, batch_size = batch_size,\r\n",
    "                                           shuffle=False)\r\n",
    "\r\n",
    "classes = ('plane', 'car', 'bird', 'cat', 'deer', 'dog', 'frog', 'horse', 'ship', 'truck')"
   ],
   "outputs": [
    {
     "output_type": "stream",
     "name": "stdout",
     "text": [
      "Files already downloaded and verified\n"
     ]
    }
   ],
   "metadata": {}
  },
  {
   "cell_type": "code",
   "execution_count": 4,
   "source": [
    "examples = iter(train_loader)\r\n",
    "samples, labels = examples.next()\r\n",
    "'''\r\n",
    "for i in range(6):\r\n",
    "    samples,_ = examples.next()\r\n",
    "    for j in range(samples.shape[0]):\r\n",
    "        plt.subplot(2, 2, j+1)\r\n",
    "        plt.imshow(samples[j][0], cmap='gray')\r\n",
    "    plt.show()'''"
   ],
   "outputs": [
    {
     "output_type": "execute_result",
     "data": {
      "text/plain": [
       "\"\\nfor i in range(6):\\n    samples,_ = examples.next()\\n    for j in range(samples.shape[0]):\\n        plt.subplot(2, 2, j+1)\\n        plt.imshow(samples[j][0], cmap='gray')\\n    plt.show()\""
      ]
     },
     "metadata": {},
     "execution_count": 4
    }
   ],
   "metadata": {}
  },
  {
   "cell_type": "code",
   "execution_count": 5,
   "source": [
    "class ConvNet(nn.Module):\r\n",
    "    def __init__(self):\r\n",
    "        super(ConvNet,self).__init__()\r\n",
    "        self.conv1 = nn.Conv2d(3, 6, 5)\r\n",
    "        self.pool = nn.MaxPool2d(2, 2)\r\n",
    "        self.conv2 = nn.Conv2d(6, 16, 5)\r\n",
    "        self.fc1 = nn.Linear(16*5*5, 120) #første argument skal være lig det forrige lags shape. Hvis den har shape [4, 32, 7, 9] skal første argument her være 32*7*9\r\n",
    "        self.fc2 = nn.Linear(120, 84)\r\n",
    "        self.fc3 = nn.Linear(84, 10)\r\n",
    "    \r\n",
    "    def forward(self, x):\r\n",
    "        out = F.relu(self.conv1(x))\r\n",
    "        out = self.pool(out)\r\n",
    "        out = F.relu(self.conv2(out))\r\n",
    "        out = self.pool(out)\r\n",
    "        out = out.view(-1,16*5*5)\r\n",
    "        out = F.relu(self.fc1(out))\r\n",
    "        out = F.relu(self.fc2(out))\r\n",
    "        out = self.fc3(out)\r\n",
    "        return out"
   ],
   "outputs": [],
   "metadata": {}
  },
  {
   "cell_type": "code",
   "execution_count": 6,
   "source": [
    "model = ConvNet().to(device)\r\n",
    "\r\n",
    "# loss and optimizer\r\n",
    "criterion = nn.CrossEntropyLoss() #for multiclass classification\r\n",
    "optimizer = torch.optim.SGD(model.parameters(), lr=learning_rate)"
   ],
   "outputs": [],
   "metadata": {}
  },
  {
   "cell_type": "code",
   "execution_count": 12,
   "source": [
    "type(train_loader)"
   ],
   "outputs": [
    {
     "output_type": "execute_result",
     "data": {
      "text/plain": [
       "torch.utils.data.dataloader.DataLoader"
      ]
     },
     "metadata": {},
     "execution_count": 12
    }
   ],
   "metadata": {}
  },
  {
   "cell_type": "code",
   "execution_count": 11,
   "source": [
    "#training loop\r\n",
    "n_total_steps = len(train_loader)\r\n",
    "for epoch in range(num_epochs):\r\n",
    "    for i, (images, labels) in enumerate(train_loader):\r\n",
    "        print(type(images))\r\n",
    "        #origin shape: [4, 3, 32, 32] = 4, 3, 1024\r\n",
    "        #plt.imshow(images, cmap='gray')\r\n",
    "        #print(\"images = \", images)\r\n",
    "        images = images.to(device)\r\n",
    "        labels = labels.to(device)\r\n",
    "        outputs = model(images)\r\n",
    "        loss = criterion(outputs, labels)\r\n",
    "        \r\n",
    "        optimizer.zero_grad()\r\n",
    "        loss.backward()\r\n",
    "        optimizer.step()\r\n",
    "        \"\"\"\r\n",
    "        if (i+1) % 100 == 0:\r\n",
    "            print(f'epoch {epoch+1} / {num_epochs}, step {i+1}/{n_total_steps}, loss = {loss.item():.4f}')\r\n",
    "    \"\"\""
   ],
   "outputs": [
    {
     "output_type": "error",
     "ename": "NameError",
     "evalue": "name 'train_set' is not defined",
     "traceback": [
      "\u001b[1;31m---------------------------------------------------------------------------\u001b[0m",
      "\u001b[1;31mNameError\u001b[0m                                 Traceback (most recent call last)",
      "\u001b[1;32m<ipython-input-11-1867b7343783>\u001b[0m in \u001b[0;36m<module>\u001b[1;34m\u001b[0m\n\u001b[0;32m      1\u001b[0m \u001b[1;31m#training loop\u001b[0m\u001b[1;33m\u001b[0m\u001b[1;33m\u001b[0m\u001b[1;33m\u001b[0m\u001b[0m\n\u001b[1;32m----> 2\u001b[1;33m \u001b[0mprint\u001b[0m\u001b[1;33m(\u001b[0m\u001b[0mtype\u001b[0m\u001b[1;33m(\u001b[0m\u001b[0mtrain_set\u001b[0m\u001b[1;33m)\u001b[0m\u001b[1;33m)\u001b[0m\u001b[1;33m\u001b[0m\u001b[1;33m\u001b[0m\u001b[0m\n\u001b[0m\u001b[0;32m      3\u001b[0m \u001b[0mn_total_steps\u001b[0m \u001b[1;33m=\u001b[0m \u001b[0mlen\u001b[0m\u001b[1;33m(\u001b[0m\u001b[0mtrain_loader\u001b[0m\u001b[1;33m)\u001b[0m\u001b[1;33m\u001b[0m\u001b[1;33m\u001b[0m\u001b[0m\n\u001b[0;32m      4\u001b[0m \u001b[1;32mfor\u001b[0m \u001b[0mepoch\u001b[0m \u001b[1;32min\u001b[0m \u001b[0mrange\u001b[0m\u001b[1;33m(\u001b[0m\u001b[0mnum_epochs\u001b[0m\u001b[1;33m)\u001b[0m\u001b[1;33m:\u001b[0m\u001b[1;33m\u001b[0m\u001b[1;33m\u001b[0m\u001b[0m\n\u001b[0;32m      5\u001b[0m     \u001b[1;32mfor\u001b[0m \u001b[0mi\u001b[0m\u001b[1;33m,\u001b[0m \u001b[1;33m(\u001b[0m\u001b[0mimages\u001b[0m\u001b[1;33m,\u001b[0m \u001b[0mlabels\u001b[0m\u001b[1;33m)\u001b[0m \u001b[1;32min\u001b[0m \u001b[0menumerate\u001b[0m\u001b[1;33m(\u001b[0m\u001b[0mtrain_loader\u001b[0m\u001b[1;33m)\u001b[0m\u001b[1;33m:\u001b[0m\u001b[1;33m\u001b[0m\u001b[1;33m\u001b[0m\u001b[0m\n",
      "\u001b[1;31mNameError\u001b[0m: name 'train_set' is not defined"
     ]
    }
   ],
   "metadata": {}
  },
  {
   "cell_type": "code",
   "execution_count": 23,
   "source": [
    "#test\r\n",
    "with torch.no_grad(): \r\n",
    "    n_correct = 0\r\n",
    "    n_samples = 0\r\n",
    "    n_class_correct = [0 for i in range(10)]\r\n",
    "    n_class_samples = [0 for i in range(10)]\r\n",
    "    for images, labels, in test_loader:\r\n",
    "        images = images.to(device)\r\n",
    "        labels = labels.to(device)\r\n",
    "        outputs = model(images)\r\n",
    "        \r\n",
    "        _, predicted = torch.max(outputs, 1)\r\n",
    "        n_samples += labels.shape[0]\r\n",
    "        n_correct += (predicted == labels).sum().item()\r\n",
    "\r\n",
    "        for i in range(batch_size):\r\n",
    "            label = labels[i]\r\n",
    "            pred = predicted[i]\r\n",
    "            if (label == pred):\r\n",
    "                n_class_correct[label] += 1\r\n",
    "            n_class_samples[label] += 1\r\n",
    "    acc = 100 * n_correct / n_samples\r\n",
    "    print(f'accuracy of the network = {acc:.4f}')\r\n",
    "\r\n",
    "    for i in range(10):\r\n",
    "        acc = 100.0 * n_class_correct[i] / n_class_samples[i]\r\n",
    "        print(f'Accuracy of {classes[i]}: {acc} %')"
   ],
   "outputs": [
    {
     "output_type": "stream",
     "name": "stdout",
     "text": [
      "accuracy of the network = 58.7500\n",
      "Accuracy of plane: 69.0 %\n",
      "Accuracy of car: 82.7 %\n",
      "Accuracy of bird: 51.1 %\n",
      "Accuracy of cat: 45.0 %\n",
      "Accuracy of deer: 52.6 %\n",
      "Accuracy of dog: 27.8 %\n",
      "Accuracy of frog: 71.8 %\n",
      "Accuracy of horse: 71.8 %\n",
      "Accuracy of ship: 58.4 %\n",
      "Accuracy of truck: 57.3 %\n"
     ]
    }
   ],
   "metadata": {}
  },
  {
   "cell_type": "code",
   "execution_count": null,
   "source": [],
   "outputs": [],
   "metadata": {}
  }
 ],
 "metadata": {
  "kernelspec": {
   "name": "python3",
   "display_name": "Python 3.8.8 64-bit ('base': conda)"
  },
  "language_info": {
   "codemirror_mode": {
    "name": "ipython",
    "version": 3
   },
   "file_extension": ".py",
   "mimetype": "text/x-python",
   "name": "python",
   "nbconvert_exporter": "python",
   "pygments_lexer": "ipython3",
   "version": "3.8.8"
  },
  "interpreter": {
   "hash": "91c4e51be3562f89547d204fdd38d4e7ef4e8727fdee12fa50025236863e8a1f"
  }
 },
 "nbformat": 4,
 "nbformat_minor": 5
}