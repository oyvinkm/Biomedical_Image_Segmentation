{
 "cells": [
  {
   "cell_type": "code",
   "execution_count": 1,
   "source": [
    "# \r\n",
    "import torch\r\n",
    "\r\n",
    "# f = 2 * x means weight = 2\r\n",
    "\r\n",
    "X = torch.tensor([1,2,3,4], dtype = torch.float32)\r\n",
    "Y = X * 2\r\n",
    "\r\n",
    "print(Y)\r\n",
    "\r\n",
    "w = torch.tensor(0.0, dtype=torch.float32, requires_grad=True)\r\n",
    "\r\n",
    "#model prediction\r\n",
    "def forward(x):\r\n",
    "    return w * x\r\n",
    "\r\n",
    "#loss = MSE\r\n",
    "def loss(y, y_hat):\r\n",
    "    return ((y_hat-y)**2).mean()\r\n",
    "\r\n",
    "#gradient\r\n",
    "\r\n",
    "\r\n",
    "print(f'Prediction before training: f(5) = {forward(5):.3f}')\r\n",
    "\r\n",
    "learning_rate = 0.01 #Forstår godt\r\n",
    "\r\n",
    "n_iters = 200\r\n",
    "\r\n",
    "for epoch in range(n_iters):\r\n",
    "    #prediction = forward pass\r\n",
    "    y_hat = forward(X)\r\n",
    "    #loss\r\n",
    "    l = loss(Y, y_hat)\r\n",
    "    \r\n",
    "    #Backward pass\r\n",
    "    l.backward() #dl/dw\r\n",
    "\r\n",
    "    #update weights\r\n",
    "    with torch.no_grad():\r\n",
    "        w -= learning_rate*w.grad\r\n",
    "\r\n",
    "    #zero gradient since l.backward() stores and accumulate the gradients in the w.grad attribute\r\n",
    "    w.grad.zero_()\r\n",
    "    \r\n",
    "    if epoch % 20 == 0:\r\n",
    "        print(f'epoch {epoch + 1}: w = {w:.3f}, loss = {l:.8f}')\r\n",
    "        \r\n",
    "print(f'Prediction after training training: f(5) = {forward(5):.3f}')"
   ],
   "outputs": [
    {
     "output_type": "stream",
     "name": "stdout",
     "text": [
      "tensor([2., 4., 6., 8.])\n",
      "Prediction before training: f(5) = 0.000\n",
      "epoch 1: w = 0.300, loss = 30.00000000\n",
      "epoch 21: w = 1.934, loss = 0.04506890\n",
      "epoch 41: w = 1.997, loss = 0.00006770\n",
      "epoch 61: w = 2.000, loss = 0.00000010\n",
      "epoch 81: w = 2.000, loss = 0.00000000\n",
      "epoch 101: w = 2.000, loss = 0.00000000\n",
      "epoch 121: w = 2.000, loss = 0.00000000\n",
      "epoch 141: w = 2.000, loss = 0.00000000\n",
      "epoch 161: w = 2.000, loss = 0.00000000\n",
      "epoch 181: w = 2.000, loss = 0.00000000\n",
      "Prediction after training training: f(5) = 10.000\n"
     ]
    }
   ],
   "metadata": {}
  },
  {
   "cell_type": "code",
   "execution_count": 2,
   "source": [
    "X = torch.tensor([1,2,3,4], dtype = torch.float32)\r\n",
    "Y = X * 2\r\n",
    "print(Y)"
   ],
   "outputs": [
    {
     "output_type": "stream",
     "name": "stdout",
     "text": [
      "tensor([2., 4., 6., 8.])\n"
     ]
    }
   ],
   "metadata": {}
  },
  {
   "cell_type": "code",
   "execution_count": null,
   "source": [],
   "outputs": [],
   "metadata": {}
  }
 ],
 "metadata": {
  "kernelspec": {
   "name": "python3",
   "display_name": "Python 3.8.8 64-bit ('base': conda)"
  },
  "language_info": {
   "codemirror_mode": {
    "name": "ipython",
    "version": 3
   },
   "file_extension": ".py",
   "mimetype": "text/x-python",
   "name": "python",
   "nbconvert_exporter": "python",
   "pygments_lexer": "ipython3",
   "version": "3.8.8"
  },
  "interpreter": {
   "hash": "91c4e51be3562f89547d204fdd38d4e7ef4e8727fdee12fa50025236863e8a1f"
  }
 },
 "nbformat": 4,
 "nbformat_minor": 5
}