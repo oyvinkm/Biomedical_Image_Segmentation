{
 "cells": [
  {
   "cell_type": "code",
   "execution_count": 2,
   "source": [
    "import torch\r\n",
    "import torch.nn as nn\r\n",
    "import torchvision\r\n",
    "import torchvision.transforms as transform\r\n",
    "import matplotlib.pyplot as plt\r\n",
    "\r\n",
    "device = torch.device('cuda' if torch.cuda.is_available() else 'cpu')"
   ],
   "outputs": [],
   "metadata": {}
  },
  {
   "cell_type": "code",
   "execution_count": 5,
   "source": [
    "#hyper parameters\r\n",
    "input_size=784 #28x28 which will get flattened\r\n",
    "hidden_size = 100\r\n",
    "num_classes = 10\r\n",
    "num_epochs = 2\r\n",
    "batch_size = 100\r\n",
    "learning_rate = 0.001"
   ],
   "outputs": [],
   "metadata": {}
  },
  {
   "cell_type": "code",
   "execution_count": 15,
   "source": [
    "#Dataset, MNIST (Some handwritten numbers)\r\n",
    "train_dataset = torchvision.datasets.MNIST(root='./data', train = True,\r\n",
    "                                          transform=transform.ToTensor(), download=True)\r\n",
    "test_dataset = torchvision.datasets.MNIST(root='./data', train = False,\r\n",
    "                                          transform=transform.ToTensor())\r\n",
    "\r\n",
    "train_loader = torch.utils.data.DataLoader(dataset=train_dataset, batch_size = batch_size,\r\n",
    "                                           shuffle=True)\r\n",
    "\r\n",
    "test_loader = torch.utils.data.DataLoader(dataset=test_dataset, batch_size = batch_size,\r\n",
    "                                           shuffle=False)\r\n",
    "\r\n",
    "examples = iter(train_loader)\r\n",
    "samples, labels = examples.next()\r\n",
    "\r\n",
    "#print(examples.next())\r\n",
    "print(samples.shape)\r\n",
    "for i in range(6):\r\n",
    "    plt.subplot(2, 3, i+1)\r\n",
    "    plt.imshow(samples[i][0], cmap='gray')\r\n",
    "    plt.show()"
   ],
   "outputs": [
    {
     "output_type": "stream",
     "name": "stdout",
     "text": [
      "torch.Size([100, 1, 28, 28])\n"
     ]
    },
    {
     "output_type": "display_data",
     "data": {
      "image/png": "[encoded data removed]",
      "text/plain": [
       "<Figure size 432x288 with 1 Axes>"
      ]
     },
     "metadata": {
      "needs_background": "light"
     }
    },
    {
     "output_type": "display_data",
     "data": {
      "image/png": "[encoded data removed]",
      "text/plain": [
       "<Figure size 432x288 with 1 Axes>"
      ]
     },
     "metadata": {
      "needs_background": "light"
     }
    },
    {
     "output_type": "display_data",
     "data": {
      "image/png": "[encoded data removed]",
      "text/plain": [
       "<Figure size 432x288 with 1 Axes>"
      ]
     },
     "metadata": {
      "needs_background": "light"
     }
    },
    {
     "output_type": "display_data",
     "data": {
      "image/png": "[encoded data removed]",
      "text/plain": [
       "<Figure size 432x288 with 1 Axes>"
      ]
     },
     "metadata": {
      "needs_background": "light"
     }
    },
    {
     "output_type": "display_data",
     "data": {
      "image/png": "[encoded data removed]",
      "text/plain": [
       "<Figure size 432x288 with 1 Axes>"
      ]
     },
     "metadata": {
      "needs_background": "light"
     }
    },
    {
     "output_type": "display_data",
     "data": {
      "image/png": "[encoded data removed]",
      "text/plain": [
       "<Figure size 432x288 with 1 Axes>"
      ]
     },
     "metadata": {
      "needs_background": "light"
     }
    }
   ],
   "metadata": {}
  },
  {
   "cell_type": "code",
   "execution_count": 5,
   "source": [
    "class NeuralNet(nn.Module):\r\n",
    "    def __init__(self,input_size, hidden_size, num_classes):\r\n",
    "        super(NeuralNet,self).__init__()\r\n",
    "        self.l1 = nn.Linear(input_size, hidden_size)\r\n",
    "        self.relu = nn.ReLU()\r\n",
    "        self.l2 = nn.Linear(hidden_size, num_classes)\r\n",
    "    \r\n",
    "    def forward(self, x):\r\n",
    "        out = self.l1(x)\r\n",
    "        out = self.relu(out)\r\n",
    "        out = self.l2(out)\r\n",
    "        return out"
   ],
   "outputs": [],
   "metadata": {}
  },
  {
   "cell_type": "code",
   "execution_count": 9,
   "source": [
    "model = NeuralNet(input_size, hidden_size, num_classes)\r\n",
    "\r\n",
    "# loss and optimizer\r\n",
    "criterion = nn.CrossEntropyLoss()\r\n",
    "optimizer = torch.optim.Adam(model.parameters(), lr=learning_rate)"
   ],
   "outputs": [],
   "metadata": {}
  },
  {
   "cell_type": "code",
   "execution_count": 10,
   "source": [
    "#training loop\r\n",
    "n_total_steps = len(train_loader)\r\n",
    "for epoch in range(num_epochs):\r\n",
    "    for i, (images, labels) in enumerate(train_loader):\r\n",
    "        images = images.reshape(-1, 28*28).to(device)\r\n",
    "        labels = labels.to(device)\r\n",
    "        \r\n",
    "        outputs = model(images)\r\n",
    "        \r\n",
    "        loss = criterion(outputs, labels)\r\n",
    "        \r\n",
    "        optimizer.zero_grad()\r\n",
    "        loss.backward()\r\n",
    "        optimizer.step()\r\n",
    "        \r\n",
    "        if (i+1) % 100 == 0:\r\n",
    "            print(f'epoch {epoch+1} / {num_epochs}, step {i+1}/{n_total_steps}, loss = {loss.item():.4f}')\r\n",
    "    "
   ],
   "outputs": [
    {
     "output_type": "stream",
     "name": "stdout",
     "text": [
      "epoch 1 / 2, step 100/600, loss = 0.4759\n",
      "epoch 1 / 2, step 200/600, loss = 0.3816\n",
      "epoch 1 / 2, step 300/600, loss = 0.2637\n",
      "epoch 1 / 2, step 400/600, loss = 0.1446\n",
      "epoch 1 / 2, step 500/600, loss = 0.2520\n",
      "epoch 1 / 2, step 600/600, loss = 0.2250\n",
      "epoch 2 / 2, step 100/600, loss = 0.1660\n",
      "epoch 2 / 2, step 200/600, loss = 0.1189\n",
      "epoch 2 / 2, step 300/600, loss = 0.1166\n",
      "epoch 2 / 2, step 400/600, loss = 0.2588\n",
      "epoch 2 / 2, step 500/600, loss = 0.1680\n",
      "epoch 2 / 2, step 600/600, loss = 0.1355\n"
     ]
    }
   ],
   "metadata": {}
  },
  {
   "cell_type": "code",
   "execution_count": 11,
   "source": [
    "#test\r\n",
    "with torch.no_grad():\r\n",
    "    n_correct = 0\r\n",
    "    n_samples = 0\r\n",
    "    for images, labels, in test_loader:\r\n",
    "        images = images.reshape(-1, 28*28).to(device)\r\n",
    "        labels = labels.to(device)\r\n",
    "        outputs = model(images)\r\n",
    "        \r\n",
    "        _, predictions = torch.max(outputs, 1)\r\n",
    "        n_samples += labels.shape[0]\r\n",
    "        n_correct += (predictions == labels).sum().item()\r\n",
    "    \r\n",
    "    acc = 100 * n_correct / n_samples\r\n",
    "    print(f'accuracy = {acc:.4f}')"
   ],
   "outputs": [
    {
     "output_type": "stream",
     "name": "stdout",
     "text": [
      "accuracy = 95.3600\n"
     ]
    }
   ],
   "metadata": {}
  },
  {
   "cell_type": "code",
   "execution_count": null,
   "source": [],
   "outputs": [],
   "metadata": {}
  }
 ],
 "metadata": {
  "kernelspec": {
   "name": "python3",
   "display_name": "Python 3.8.8 64-bit ('base': conda)"
  },
  "language_info": {
   "codemirror_mode": {
    "name": "ipython",
    "version": 3
   },
   "file_extension": ".py",
   "mimetype": "text/x-python",
   "name": "python",
   "nbconvert_exporter": "python",
   "pygments_lexer": "ipython3",
   "version": "3.8.8"
  },
  "interpreter": {
   "hash": "91c4e51be3562f89547d204fdd38d4e7ef4e8727fdee12fa50025236863e8a1f"
  }
 },
 "nbformat": 4,
 "nbformat_minor": 5
}