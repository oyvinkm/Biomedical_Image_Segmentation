{
 "cells": [
  {
   "cell_type": "code",
   "execution_count": 2,
   "id": "dae158e9",
   "metadata": {},
   "outputs": [],
   "source": [
    "# I auto behøver man ikke definere loss manuelt\n",
    "# Man behøver ikke opdatere sine weights selv.\n",
    "# Man behøver ikke sætte weigths til 0 selv\n",
    "# Man behøver ikke have en \"forward\" funktion, og man behøver ikke definere sin weight\n",
    "import torch\n",
    "import torch.nn as nn\n",
    "\n",
    "# f = 2 * x means weight = 2\n",
    "# Man skal lave det om til et 2D array, hvor hver række er en sample\n",
    "# og hver kolonne er en feature.\n",
    "X = torch.tensor([[1],[2],[3],[4]], dtype = torch.float32)\n",
    "Y = X * 2\n",
    "\n",
    "X_test = torch.tensor([5], dtype = torch.float32)\n",
    "\n",
    "n_samples, n_features = X.shape\n"
   ]
  },
  {
   "cell_type": "code",
   "execution_count": 3,
   "id": "d4297100",
   "metadata": {},
   "outputs": [
    {
     "name": "stdout",
     "output_type": "stream",
     "text": [
      "Prediction before training: f(5) = 3.946\n"
     ]
    }
   ],
   "source": [
    "input_size = n_features\n",
    "output_size = n_features\n",
    "# model = nn.Linear(input_size, output_size)\n",
    "\n",
    "class CustomLinearRegression(nn.Module):\n",
    "    \n",
    "    def __init__(self, input_dim, output_dim):\n",
    "        super(CustomLinearRegression, self).__init__()\n",
    "        # define layers\n",
    "        self.lin =nn.Linear(input_dim, output_dim)\n",
    "    \n",
    "    def forward(self, x):\n",
    "        return self.lin(x)\n",
    "    \n",
    "model = CustomLinearRegression(input_size, output_size)\n",
    "\n",
    "print(f'Prediction before training: f(5) = {model(X_test).item():.3f}')\n",
    "\n",
    "learning_rate = 0.01 #Forstår godt\n",
    "\n",
    "n_iters = 200\n",
    "\n",
    "loss = nn.MSELoss()\n",
    "optimizer = torch.optim.SGD(model.parameters(), lr = learning_rate) #SGD = Stocastic Gradient Descent"
   ]
  },
  {
   "cell_type": "code",
   "execution_count": 4,
   "id": "3f197069",
   "metadata": {},
   "outputs": [
    {
     "name": "stdout",
     "output_type": "stream",
     "text": [
      "epoch 1: w = 0.946, loss = 10.73216820\n",
      "epoch 21: w = 1.825, loss = 0.04058649\n",
      "epoch 41: w = 1.857, loss = 0.02965452\n",
      "epoch 61: w = 1.865, loss = 0.02629864\n",
      "epoch 81: w = 1.873, loss = 0.02332630\n",
      "epoch 101: w = 1.881, loss = 0.02068990\n",
      "epoch 121: w = 1.888, loss = 0.01835149\n",
      "epoch 141: w = 1.894, loss = 0.01627733\n",
      "epoch 161: w = 1.900, loss = 0.01443762\n",
      "epoch 181: w = 1.906, loss = 0.01280586\n",
      "Prediction after training training: f(5) = 9.817\n"
     ]
    }
   ],
   "source": [
    "\n",
    "for epoch in range(n_iters):\n",
    "    #prediction = forward pass\n",
    "    y_hat = model(X)\n",
    "    #loss\n",
    "    l = loss(Y, y_hat)\n",
    "    \n",
    "    #Backward pass\n",
    "    l.backward() #dl/dw\n",
    "\n",
    "    #update weights\n",
    "    optimizer.step()\n",
    "\n",
    "    #zero gradient since l.backward() stores and accumulate the gradients in the w.grad attribute\n",
    "    optimizer.zero_grad()\n",
    "    \n",
    "    if epoch % 20 == 0:\n",
    "        # If you want to see the weights, you have to unpackage them\n",
    "        [w, b] = model.parameters()\n",
    "        print(f'epoch {epoch + 1}: w = {w[0][0].item():.3f}, loss = {l:.8f}')\n",
    "        \n",
    "print(f'Prediction after training training: f(5) = {model(X_test).item():.3f}')"
   ]
  },
  {
   "cell_type": "code",
   "execution_count": null,
   "id": "e289a21d",
   "metadata": {},
   "outputs": [],
   "source": []
  },
  {
   "cell_type": "code",
   "execution_count": null,
   "id": "687e616f",
   "metadata": {},
   "outputs": [],
   "source": []
  }
 ],
 "metadata": {
  "kernelspec": {
   "display_name": "Python 3",
   "language": "python",
   "name": "python3"
  },
  "language_info": {
   "codemirror_mode": {
    "name": "ipython",
    "version": 3
   },
   "file_extension": ".py",
   "mimetype": "text/x-python",
   "name": "python",
   "nbconvert_exporter": "python",
   "pygments_lexer": "ipython3",
   "version": "3.8.8"
  }
 },
 "nbformat": 4,
 "nbformat_minor": 5
}
