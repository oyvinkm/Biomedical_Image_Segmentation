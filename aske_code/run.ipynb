{
 "cells": [
  {
   "cell_type": "code",
   "execution_count": 1,
   "metadata": {},
   "outputs": [
    {
     "name": "stdout",
     "output_type": "stream",
     "text": [
      "cpu\n"
     ]
    }
   ],
   "source": [
    "from torch.utils.data import DataLoader, Dataset\n",
    "from sklearn.model_selection import train_test_split\n",
    "from image_Functions import slicing, crop_images_to_brain, crop_to_size, save_image\n",
    "from datasetModule import Set\n",
    "from model import CNN\n",
    "from loss import DiceLoss, WeightedTverskyLoss\n",
    "import torch\n",
    "import os\n",
    "from datetime import datetime\n",
    "import nibabel as nib\n",
    "import torch.nn as nn\n",
    "from matplotlib import pyplot as plt\n",
    "\n",
    "device = torch.device('cuda' if torch.cuda.is_available() else 'cpu')\n",
    "print(device)"
   ]
  },
  {
   "cell_type": "markdown",
   "metadata": {},
   "source": [
    "Most of the functionallity is stored in module files. \n",
    "The data consist of Images with 3 channels and segmentation images with 2 channels.\n"
   ]
  },
  {
   "cell_type": "code",
   "execution_count": 8,
   "metadata": {},
   "outputs": [],
   "source": [
    "#hyper parameters\n",
    "batch_size = 2\n",
    "learning_rate = 0.1\n",
    "num_epochs = 4"
   ]
  },
  {
   "cell_type": "code",
   "execution_count": 3,
   "metadata": {},
   "outputs": [
    {
     "name": "stdout",
     "output_type": "stream",
     "text": [
      "c:\\Users\\aske9\\bachelor\\Biomedical_Image_Segmentation\\aske_code\n"
     ]
    }
   ],
   "source": [
    "\"Need to specify the local path on computer\"\n",
    "dir_path = \"Biomedical_Image_Segmentation\\Cropped_Task3\\\\\"\n",
    "dir_path = os.path.join(os.getcwd(), '../../Cropped_Task3')\n",
    "#test_path = os.path.join(os.getcwd(), 'Biomedical_Image_Segmentation')\n",
    "print(os.getcwd())\n",
    "test_imgur = nib.load(os.path.join(os.getcwd(), \"../Cropped_Task3\\crop_sub-233\\crop_sub-233_space-T1_desc-masked_T1.nii.gz\"))\n",
    "\n",
    "'Splitting the data into 30% test and 70% training.'\n",
    "train_set, test_set = train_test_split(Set(dir_path, sub_dir = 'crop_sub-23'), test_size=0.2, random_state=25)\n",
    "\n",
    "size = (256,288,176)\n",
    "train_set = crop_to_size(train_set, size)\n",
    "test_set = crop_to_size(test_set, size)\n",
    "\n",
    "'Load training and test set, batch size my vary'\n",
    "train_loader = DataLoader(dataset=train_set, batch_size=batch_size, shuffle=True)\n",
    "test_loader = DataLoader(dataset=test_set, batch_size=batch_size, shuffle=False)\n",
    "test_set = None\n",
    "train_set = None\n"
   ]
  },
  {
   "cell_type": "code",
   "execution_count": 9,
   "metadata": {},
   "outputs": [],
   "source": [
    "model = CNN(3,base_features=4)\n",
    "model = nn.DataParallel(model)\n",
    "model.to(device)\n",
    "\n",
    "optimizer = torch.optim.Adam(model.parameters(), lr=learning_rate)\n",
    "n_total_steps = len(train_loader)\n",
    "loss_func_2 = WeightedTverskyLoss((0.1,0.9))"
   ]
  },
  {
   "cell_type": "code",
   "execution_count": 10,
   "metadata": {},
   "outputs": [
    {
     "name": "stdout",
     "output_type": "stream",
     "text": [
      "Final =  torch.Size([2, 1, 256, 288, 176])\n",
      "epoch 1 / 4, step 1/2, loss = 1.0000\n",
      "Final =  torch.Size([2, 1, 256, 288, 176])\n",
      "epoch 1 / 4, step 2/2, loss = 1.0000\n",
      "Final =  torch.Size([2, 1, 256, 288, 176])\n",
      "epoch 2 / 4, step 1/2, loss = 1.0000\n",
      "Final =  torch.Size([2, 1, 256, 288, 176])\n",
      "epoch 2 / 4, step 2/2, loss = 1.0000\n",
      "Final =  torch.Size([2, 1, 256, 288, 176])\n",
      "epoch 3 / 4, step 1/2, loss = 1.0000\n",
      "Final =  torch.Size([2, 1, 256, 288, 176])\n",
      "epoch 3 / 4, step 2/2, loss = 1.0000\n",
      "Final =  torch.Size([2, 1, 256, 288, 176])\n",
      "epoch 4 / 4, step 1/2, loss = 1.0000\n",
      "Final =  torch.Size([2, 1, 256, 288, 176])\n",
      "epoch 4 / 4, step 2/2, loss = 1.0000\n"
     ]
    }
   ],
   "source": [
    "'Run the CNN'\n",
    "losses = []\n",
    "for epoch in range(num_epochs):\n",
    "    for i, image_set in enumerate(train_loader):\n",
    "        image = image_set['data'].to(device)\n",
    "        labels = image_set['seg'].to(device)\n",
    "        optimizer.zero_grad() #I'd put it further down, it might not make a difference\n",
    "        outputs = model(image)\n",
    "        loss = loss_func_2(outputs, labels)\n",
    "        losses.append(loss.item())\n",
    "        loss.backward()\n",
    "        optimizer.step()\n",
    "        if (i+1) % 1 == 0:\n",
    "            print(f'epoch {epoch+1} / {num_epochs}, step {i+1}/{n_total_steps}, loss = {loss.item():.4f}')\n"
   ]
  },
  {
   "cell_type": "code",
   "execution_count": 6,
   "metadata": {},
   "outputs": [
    {
     "name": "stdout",
     "output_type": "stream",
     "text": [
      "[0.9999998823194275, 1.0, 0.9999997801804421, 1.0, 1.0, 0.999999767687007, 1.0, 0.9999998443798569]\n"
     ]
    },
    {
     "data": {
      "image/png": "[encoded data removed]",
      "text/plain": [
       "<Figure size 432x288 with 1 Axes>"
      ]
     },
     "metadata": {
      "needs_background": "light"
     },
     "output_type": "display_data"
    }
   ],
   "source": [
    "plt.plot(losses)\n",
    "plt.savefig('Losses')\n",
    "print(losses)"
   ]
  },
  {
   "cell_type": "code",
   "execution_count": 7,
   "metadata": {},
   "outputs": [
    {
     "name": "stdout",
     "output_type": "stream",
     "text": [
      "Final =  torch.Size([1, 1, 256, 288, 176])\n",
      "The saved name of the file was =  kl123248-18.10.2021 .csv\n"
     ]
    }
   ],
   "source": [
    "test_pred = iter(test_loader)\n",
    "test_img = test_pred.next()\n",
    "\n",
    "prediction = model(test_img['data'].to(device))\n",
    "\n",
    "#save_image(torch.squeeze(prediction.detach()).cpu().numpy(), test_imgur.affine)\n",
    "time = datetime.now().replace(microsecond=0).strftime(\"kl%H%M%S-%d.%m.%Y\")\n",
    "print(\"The saved name of the file was = \", str(time) , \".csv\")\n",
    "#torch.save(prediction, str(time) + \".csv\")"
   ]
  },
  {
   "cell_type": "code",
   "execution_count": null,
   "metadata": {},
   "outputs": [],
   "source": []
  }
 ],
 "metadata": {
  "interpreter": {
   "hash": "91c4e51be3562f89547d204fdd38d4e7ef4e8727fdee12fa50025236863e8a1f"
  },
  "kernelspec": {
   "display_name": "Python 3.8.8 64-bit ('base': conda)",
   "name": "python3"
  },
  "language_info": {
   "codemirror_mode": {
    "name": "ipython",
    "version": 3
   },
   "file_extension": ".py",
   "mimetype": "text/x-python",
   "name": "python",
   "nbconvert_exporter": "python",
   "pygments_lexer": "ipython3",
   "version": "3.8.8"
  },
  "orig_nbformat": 4
 },
 "nbformat": 4,
 "nbformat_minor": 2
}
