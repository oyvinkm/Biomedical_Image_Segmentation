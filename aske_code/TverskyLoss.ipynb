{
 "cells": [
  {
   "cell_type": "code",
   "execution_count": 59,
   "metadata": {},
   "outputs": [],
   "source": [
    "import torch\n",
    "from torch import nn\n",
    "from torch.nn import Softmax"
   ]
  },
  {
   "cell_type": "code",
   "execution_count": 86,
   "metadata": {},
   "outputs": [],
   "source": [
    "y_data     = [[[1., 2.], [3., 4.]], [[5., 6.], [7., 8.]]]\n",
    "y_hat_data = [[[1., 1.], [0., 0.]], [[1., 1.], [1., 1.]]]\n",
    "y_pred = torch.Tensor(y_data)\n",
    "y_hat = torch.Tensor(y_hat_data)"
   ]
  },
  {
   "cell_type": "code",
   "execution_count": 87,
   "metadata": {},
   "outputs": [],
   "source": [
    "class WeightedTverskyLoss(nn.Module):\n",
    "    \"\"\"Tversky loss function from arXiv:1803.11078v1\"\"\"\n",
    "    def __init__(self, weight : tuple=(0.5, 0.5)):\n",
    "        super(WeightedTverskyLoss, self).__init__()\n",
    "        self.alpha = weight[0]\n",
    "        self.beta = weight[1]\n",
    "\n",
    "    def forward(self, input, target):\n",
    "        m = Softmax(dim=2)\n",
    "        input = m(input)\n",
    "        input = input.view(-1)\n",
    "        target = target.view(-1)\n",
    "\n",
    "        p0 = input #probability that voxel is a lacune\n",
    "        p1 = 1 - input #probability that voxel is a non-lacune\n",
    "        g0 = target #1 if voxel is a lacune, 0 if voxel is a non-lacune\n",
    "        g1 = abs(target - 1) #0 if voxel is a lacune, 1 if voxel is a non-lacune\n",
    "        \n",
    "        loss = ((p0*g0).sum())/((p0*g0).sum()+self.alpha*((p0*g1).sum()) + self.beta*((p1*g0).sum()))\n",
    "\n",
    "        return 1 - loss"
   ]
  },
  {
   "cell_type": "code",
   "execution_count": 88,
   "metadata": {},
   "outputs": [
    {
     "name": "stdout",
     "output_type": "stream",
     "text": [
      "tensor(0.4444)\n"
     ]
    }
   ],
   "source": [
    "criterion = WeightedTverskyLoss(weight=(0.3,0.7))\n",
    "loss = criterion(y_pred, y_hat)"
   ]
  },
  {
   "cell_type": "code",
   "execution_count": null,
   "metadata": {},
   "outputs": [],
   "source": []
  },
  {
   "cell_type": "code",
   "execution_count": null,
   "metadata": {},
   "outputs": [],
   "source": []
  }
 ],
 "metadata": {
  "interpreter": {
   "hash": "fe43c643eedcd1f687e99e6ead277e97843d429b5f47c8612e5d5f5c5d388128"
  },
  "kernelspec": {
   "display_name": "Python 3.7.6 64-bit ('base': conda)",
   "name": "python3"
  },
  "language_info": {
   "codemirror_mode": {
    "name": "ipython",
    "version": 3
   },
   "file_extension": ".py",
   "mimetype": "text/x-python",
   "name": "python",
   "nbconvert_exporter": "python",
   "pygments_lexer": "ipython3",
   "version": "3.7.6"
  },
  "orig_nbformat": 4
 },
 "nbformat": 4,
 "nbformat_minor": 2
}
