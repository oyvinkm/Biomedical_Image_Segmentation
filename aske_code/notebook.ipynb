{
 "cells": [
  {
   "cell_type": "code",
   "execution_count": 1,
   "source": [
    "import torch\r\n",
    "from torch.utils.data import DataLoader\r\n",
    "from sklearn.model_selection import train_test_split\r\n",
    "from Image_Functions import slicing, crop_images_to_brain, crop_to_size\r\n",
    "from datasetModule import Set\r\n",
    "from torch import nn\r\n",
    "import matplotlib.pyplot as plt\r\n",
    "import Model\r\n",
    "import tensorflow as tf\r\n",
    "\r\n",
    "device = torch.device('cuda' if torch.cuda.is_available() else 'cpu')"
   ],
   "outputs": [],
   "metadata": {}
  },
  {
   "cell_type": "markdown",
   "source": [
    "Most of the functionallity is stored in module files. \n",
    "The data consist of Images with 3 channels and segmentation images with 2 channels.\n"
   ],
   "metadata": {}
  },
  {
   "cell_type": "code",
   "execution_count": 2,
   "source": [
    "#hyper parameters\r\n",
    "batch_size = 1\r\n",
    "learning_rate = 0.01\r\n",
    "num_epochs = 4"
   ],
   "outputs": [],
   "metadata": {}
  },
  {
   "cell_type": "code",
   "execution_count": 3,
   "source": [
    "\"Need to specify the local path on computer\"\r\n",
    "dir_path = \"../Task3/\"\r\n",
    "\r\n",
    "'Splitting the data into 30% test and 70% training.'\r\n",
    "X_train, X_test = train_test_split(Set(dir_path, sub_dir = 'sub-23'), test_size=0.3, random_state=25)\r\n",
    "\r\n",
    "X_train, X_test = crop_images_to_brain(X_train), crop_images_to_brain(X_test)\r\n",
    "size = (256,288,176)\r\n",
    "train_set = crop_to_size(X_train, size)\r\n",
    "test_set = crop_to_size(X_test,size)\r\n",
    "\r\n",
    "'Load training and test set, batch size my vary'\r\n",
    "train_loader = DataLoader(dataset=train_set, batch_size=batch_size, shuffle=True)\r\n",
    "test_loader = DataLoader(dataset=test_set, batch_size=batch_size, shuffle=False)"
   ],
   "outputs": [
    {
     "output_type": "stream",
     "name": "stdout",
     "text": [
      "../Task3/sub-233\n",
      "../Task3/sub-232\n",
      "../Task3/sub-234\n",
      "../Task3/sub-230\n",
      "../Task3/sub-231\n"
     ]
    }
   ],
   "metadata": {}
  },
  {
   "cell_type": "code",
   "execution_count": 4,
   "source": [
    "tmp = next(iter(train_set))\r\n",
    "image0 = tmp['seg']\r\n",
    "\r\n",
    "examples = iter(train_loader)\r\n",
    "samples = examples.next()\r\n",
    "image1 = samples['seg']\r\n",
    "\r\n",
    "image1[0].shape"
   ],
   "outputs": [
    {
     "output_type": "execute_result",
     "data": {
      "text/plain": [
       "torch.Size([2, 256, 288, 176])"
      ]
     },
     "metadata": {},
     "execution_count": 4
    }
   ],
   "metadata": {}
  },
  {
   "cell_type": "code",
   "execution_count": 6,
   "source": [
    "'Run the CNN'\r\n",
    "model = Model.CNN(3).to(device)\r\n",
    "criterion = nn.CrossEntropyLoss()\r\n",
    "optimizer = torch.optim.Adam(model.parameters(), lr=learning_rate)\r\n",
    "\r\n",
    "n_total_steps = len(train_loader)\r\n",
    "for epoch in range(num_epochs):\r\n",
    "    for i, image_set in enumerate(train_loader):\r\n",
    "        image = image_set['data'].to(device)\r\n",
    "\r\n",
    "        #We have 2 segementations for every sample, so we must add them together to a single segmentation\r\n",
    "        labels = image_set['seg'][0].to(device)\r\n",
    "        print(\"labels shape\", labels.shape)\r\n",
    "        outputs = model(image)\r\n",
    "\r\n",
    "        print(\"outputs shape = \", outputs.shape)\r\n",
    "        print(0)\r\n",
    "        loss = criterion(outputs, labels)\r\n",
    "        print(1)\r\n",
    "        optimizer.zero_grad()\r\n",
    "        print(2)\r\n",
    "        loss.backward()\r\n",
    "        print(3)\r\n",
    "        optimizer.step()\r\n",
    "        print(4)\r\n",
    "        if (i+1) % 1 == 0:\r\n",
    "            print(f'epoch {epoch+1} / {num_epochs}, step {i+1}/{n_total_steps}, loss = {loss.item():.4f}')\r\n"
   ],
   "outputs": [
    {
     "output_type": "error",
     "ename": "IndexError",
     "evalue": "index 1 is out of bounds for dimension 0 with size 1",
     "traceback": [
      "\u001b[1;31m---------------------------------------------------------------------------\u001b[0m",
      "\u001b[1;31mIndexError\u001b[0m                                Traceback (most recent call last)",
      "\u001b[1;32m<ipython-input-6-73a6902255bf>\u001b[0m in \u001b[0;36m<module>\u001b[1;34m\u001b[0m\n\u001b[0;32m     10\u001b[0m \u001b[1;33m\u001b[0m\u001b[0m\n\u001b[0;32m     11\u001b[0m         \u001b[1;31m#We have 2 segementations for every sample, so we must add them together to a single segmentation\u001b[0m\u001b[1;33m\u001b[0m\u001b[1;33m\u001b[0m\u001b[1;33m\u001b[0m\u001b[0m\n\u001b[1;32m---> 12\u001b[1;33m         \u001b[0mlabels\u001b[0m \u001b[1;33m=\u001b[0m \u001b[0mimage_set\u001b[0m\u001b[1;33m[\u001b[0m\u001b[1;34m'seg'\u001b[0m\u001b[1;33m]\u001b[0m\u001b[1;33m[\u001b[0m\u001b[1;36m0\u001b[0m\u001b[1;33m]\u001b[0m\u001b[1;33m.\u001b[0m\u001b[0mto\u001b[0m\u001b[1;33m(\u001b[0m\u001b[0mdevice\u001b[0m\u001b[1;33m)\u001b[0m\u001b[1;33m.\u001b[0m\u001b[0madd\u001b[0m\u001b[1;33m(\u001b[0m\u001b[0mimage_set\u001b[0m\u001b[1;33m[\u001b[0m\u001b[1;34m'seg'\u001b[0m\u001b[1;33m]\u001b[0m\u001b[1;33m[\u001b[0m\u001b[1;36m1\u001b[0m\u001b[1;33m]\u001b[0m\u001b[1;33m.\u001b[0m\u001b[0mto\u001b[0m\u001b[1;33m(\u001b[0m\u001b[0mdevice\u001b[0m\u001b[1;33m)\u001b[0m\u001b[1;33m)\u001b[0m\u001b[1;33m\u001b[0m\u001b[1;33m\u001b[0m\u001b[0m\n\u001b[0m\u001b[0;32m     13\u001b[0m         \u001b[0mprint\u001b[0m\u001b[1;33m(\u001b[0m\u001b[1;34m\"labels shape\"\u001b[0m\u001b[1;33m,\u001b[0m \u001b[0mlabels\u001b[0m\u001b[1;33m.\u001b[0m\u001b[0mshape\u001b[0m\u001b[1;33m)\u001b[0m\u001b[1;33m\u001b[0m\u001b[1;33m\u001b[0m\u001b[0m\n\u001b[0;32m     14\u001b[0m         \u001b[0moutputs\u001b[0m \u001b[1;33m=\u001b[0m \u001b[0mmodel\u001b[0m\u001b[1;33m(\u001b[0m\u001b[0mimage\u001b[0m\u001b[1;33m)\u001b[0m\u001b[1;33m\u001b[0m\u001b[1;33m\u001b[0m\u001b[0m\n",
      "\u001b[1;31mIndexError\u001b[0m: index 1 is out of bounds for dimension 0 with size 1"
     ]
    }
   ],
   "metadata": {}
  },
  {
   "cell_type": "code",
   "execution_count": null,
   "source": [
    "\r\n",
    "print(out_img[0][0].shape)\r\n",
    "img = out_img[0][0]\r\n",
    "img = img.detach().numpy()\r\n",
    "for imgur in image[0]:\r\n",
    "    slicing(imgur)\r\n",
    "#slicing(img)"
   ],
   "outputs": [],
   "metadata": {}
  },
  {
   "cell_type": "code",
   "execution_count": null,
   "source": [],
   "outputs": [],
   "metadata": {}
  }
 ],
 "metadata": {
  "orig_nbformat": 4,
  "language_info": {
   "name": "python",
   "version": "3.8.8",
   "mimetype": "text/x-python",
   "codemirror_mode": {
    "name": "ipython",
    "version": 3
   },
   "pygments_lexer": "ipython3",
   "nbconvert_exporter": "python",
   "file_extension": ".py"
  },
  "kernelspec": {
   "name": "python3",
   "display_name": "Python 3.8.8 64-bit ('base': conda)"
  },
  "interpreter": {
   "hash": "91c4e51be3562f89547d204fdd38d4e7ef4e8727fdee12fa50025236863e8a1f"
  }
 },
 "nbformat": 4,
 "nbformat_minor": 2
}